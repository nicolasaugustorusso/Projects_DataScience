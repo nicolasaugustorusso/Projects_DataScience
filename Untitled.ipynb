{
 "cells": [
  {
   "cell_type": "code",
   "execution_count": 23,
   "id": "a9f37b7d-d595-4ee6-a63f-fb12fdee6f12",
   "metadata": {},
   "outputs": [],
   "source": [
    "import pandas as pd"
   ]
  },
  {
   "cell_type": "code",
   "execution_count": 66,
   "id": "f272f0c2-5e34-4a42-b3a4-9e080c9ee781",
   "metadata": {},
   "outputs": [],
   "source": [
    "mont_init = 10000\n",
    "mont_total = [mont_init]\n",
    "valor_apt = 500\n",
    "apt_mensal = [valor_apt]\n",
    "rend_anual = 0.12\n",
    "rend_mes = 0.5"
   ]
  },
  {
   "cell_type": "code",
   "execution_count": 69,
   "id": "67f5f741-3d59-4c1b-9d68-3815cdf9ff0c",
   "metadata": {},
   "outputs": [
    {
     "ename": "TypeError",
     "evalue": "can only concatenate list (not \"float\") to list",
     "output_type": "error",
     "traceback": [
      "\u001b[1;31m---------------------------------------------------------------------------\u001b[0m",
      "\u001b[1;31mTypeError\u001b[0m                                 Traceback (most recent call last)",
      "\u001b[1;32m~\\AppData\\Local\\Temp\\ipykernel_8916\\2908936973.py\u001b[0m in \u001b[0;36m<module>\u001b[1;34m\u001b[0m\n\u001b[0;32m      1\u001b[0m \u001b[1;32mfor\u001b[0m \u001b[0mi\u001b[0m \u001b[1;32min\u001b[0m \u001b[0mrange\u001b[0m\u001b[1;33m(\u001b[0m\u001b[1;36m12\u001b[0m\u001b[1;33m)\u001b[0m\u001b[1;33m:\u001b[0m\u001b[1;33m\u001b[0m\u001b[1;33m\u001b[0m\u001b[0m\n\u001b[0;32m      2\u001b[0m    \u001b[0mmont_total\u001b[0m \u001b[1;33m+=\u001b[0m \u001b[1;33m[\u001b[0m\u001b[0mmont_total\u001b[0m\u001b[1;33m[\u001b[0m\u001b[1;33m-\u001b[0m\u001b[1;36m1\u001b[0m\u001b[1;33m]\u001b[0m \u001b[1;33m+\u001b[0m \u001b[1;33m(\u001b[0m\u001b[1;33m(\u001b[0m\u001b[0mvalor_apt\u001b[0m \u001b[1;33m*\u001b[0m \u001b[0mrend_mes\u001b[0m\u001b[1;33m)\u001b[0m \u001b[1;33m+\u001b[0m \u001b[0mvalor_apt\u001b[0m\u001b[1;33m)\u001b[0m\u001b[1;33m]\u001b[0m\u001b[1;33m\u001b[0m\u001b[1;33m\u001b[0m\u001b[0m\n\u001b[1;32m----> 3\u001b[1;33m    \u001b[0mapt_mensal\u001b[0m \u001b[1;33m+=\u001b[0m \u001b[1;33m[\u001b[0m\u001b[0mapt_mensal\u001b[0m \u001b[1;33m+\u001b[0m \u001b[0mmont_total\u001b[0m\u001b[1;33m[\u001b[0m\u001b[1;33m-\u001b[0m\u001b[1;36m1\u001b[0m\u001b[1;33m]\u001b[0m\u001b[1;33m]\u001b[0m\u001b[1;33m\u001b[0m\u001b[1;33m\u001b[0m\u001b[0m\n\u001b[0m\u001b[0;32m      4\u001b[0m \u001b[1;33m\u001b[0m\u001b[0m\n",
      "\u001b[1;31mTypeError\u001b[0m: can only concatenate list (not \"float\") to list"
     ]
    }
   ],
   "source": [
    " for i in range(12):\n",
    "    mont_total += [mont_total[-1] + ((valor_apt * rend_mes) + valor_apt)] \n",
    "    mont_total[-1] - mont_total\n",
    "    "
   ]
  },
  {
   "cell_type": "code",
   "execution_count": 60,
   "id": "7a1c3b13-5d31-454c-8d1b-00d5e524e0d8",
   "metadata": {},
   "outputs": [
    {
     "data": {
      "text/plain": [
       "[10000,\n",
       " 10750.0,\n",
       " 11500.0,\n",
       " 12250.0,\n",
       " 13000.0,\n",
       " 13750.0,\n",
       " 14500.0,\n",
       " 15250.0,\n",
       " 16000.0,\n",
       " 16750.0,\n",
       " 17500.0,\n",
       " 18250.0,\n",
       " 19000.0]"
      ]
     },
     "execution_count": 60,
     "metadata": {},
     "output_type": "execute_result"
    }
   ],
   "source": [
    "mont_total "
   ]
  },
  {
   "cell_type": "code",
   "execution_count": 63,
   "id": "e19a5d4c-f02e-47f4-bc1d-82b40db59c3b",
   "metadata": {},
   "outputs": [
    {
     "ename": "NameError",
     "evalue": "name 'valor_apt' is not defined",
     "output_type": "error",
     "traceback": [
      "\u001b[1;31m---------------------------------------------------------------------------\u001b[0m",
      "\u001b[1;31mNameError\u001b[0m                                 Traceback (most recent call last)",
      "\u001b[1;32m~\\AppData\\Local\\Temp\\ipykernel_8916\\3177827480.py\u001b[0m in \u001b[0;36m<module>\u001b[1;34m\u001b[0m\n\u001b[1;32m----> 1\u001b[1;33m df = pd.DataFrame((mont_total, valor_apt),index=[\"JAN\",\"FEV\",\"MAR\",\"ABR\",\"MAI\",\"JUN\",\n\u001b[0m\u001b[0;32m      2\u001b[0m                                     \"JUL\",\"AGO\",\"SET\",\"OUT\",\"NOV\",\"DEZ\",\"SALDO FINAL\"], \n\u001b[0;32m      3\u001b[0m                   columns=[\"SALDO MENSAL\",\"APORTE MENSAL\"])\n",
      "\u001b[1;31mNameError\u001b[0m: name 'valor_apt' is not defined"
     ]
    }
   ],
   "source": [
    "df = pd.DataFrame((mont_total, valor_apt),index=[\"JAN\",\"FEV\",\"MAR\",\"ABR\",\"MAI\",\"JUN\",\n",
    "                                    \"JUL\",\"AGO\",\"SET\",\"OUT\",\"NOV\",\"DEZ\",\"SALDO FINAL\"], \n",
    "                  columns=[\"SALDO MENSAL\",\"APORTE MENSAL\"])"
   ]
  },
  {
   "cell_type": "code",
   "execution_count": 62,
   "id": "aba30982-5d96-457b-9611-701bd8be948b",
   "metadata": {},
   "outputs": [
    {
     "data": {
      "text/html": [
       "<div>\n",
       "<style scoped>\n",
       "    .dataframe tbody tr th:only-of-type {\n",
       "        vertical-align: middle;\n",
       "    }\n",
       "\n",
       "    .dataframe tbody tr th {\n",
       "        vertical-align: top;\n",
       "    }\n",
       "\n",
       "    .dataframe thead th {\n",
       "        text-align: right;\n",
       "    }\n",
       "</style>\n",
       "<table border=\"1\" class=\"dataframe\">\n",
       "  <thead>\n",
       "    <tr style=\"text-align: right;\">\n",
       "      <th></th>\n",
       "      <th>SALDO MENSAL</th>\n",
       "    </tr>\n",
       "  </thead>\n",
       "  <tbody>\n",
       "    <tr>\n",
       "      <th>JAN</th>\n",
       "      <td>10000.0</td>\n",
       "    </tr>\n",
       "    <tr>\n",
       "      <th>FEV</th>\n",
       "      <td>10750.0</td>\n",
       "    </tr>\n",
       "    <tr>\n",
       "      <th>MAR</th>\n",
       "      <td>11500.0</td>\n",
       "    </tr>\n",
       "    <tr>\n",
       "      <th>ABR</th>\n",
       "      <td>12250.0</td>\n",
       "    </tr>\n",
       "    <tr>\n",
       "      <th>MAI</th>\n",
       "      <td>13000.0</td>\n",
       "    </tr>\n",
       "    <tr>\n",
       "      <th>JUN</th>\n",
       "      <td>13750.0</td>\n",
       "    </tr>\n",
       "    <tr>\n",
       "      <th>JUL</th>\n",
       "      <td>14500.0</td>\n",
       "    </tr>\n",
       "    <tr>\n",
       "      <th>AGO</th>\n",
       "      <td>15250.0</td>\n",
       "    </tr>\n",
       "    <tr>\n",
       "      <th>SET</th>\n",
       "      <td>16000.0</td>\n",
       "    </tr>\n",
       "    <tr>\n",
       "      <th>OUT</th>\n",
       "      <td>16750.0</td>\n",
       "    </tr>\n",
       "    <tr>\n",
       "      <th>NOV</th>\n",
       "      <td>17500.0</td>\n",
       "    </tr>\n",
       "    <tr>\n",
       "      <th>DEZ</th>\n",
       "      <td>18250.0</td>\n",
       "    </tr>\n",
       "    <tr>\n",
       "      <th>SALDO FINAL</th>\n",
       "      <td>19000.0</td>\n",
       "    </tr>\n",
       "  </tbody>\n",
       "</table>\n",
       "</div>"
      ],
      "text/plain": [
       "             SALDO MENSAL\n",
       "JAN               10000.0\n",
       "FEV               10750.0\n",
       "MAR               11500.0\n",
       "ABR               12250.0\n",
       "MAI               13000.0\n",
       "JUN               13750.0\n",
       "JUL               14500.0\n",
       "AGO               15250.0\n",
       "SET               16000.0\n",
       "OUT               16750.0\n",
       "NOV               17500.0\n",
       "DEZ               18250.0\n",
       "SALDO FINAL       19000.0"
      ]
     },
     "execution_count": 62,
     "metadata": {},
     "output_type": "execute_result"
    }
   ],
   "source": [
    "df"
   ]
  },
  {
   "cell_type": "code",
   "execution_count": null,
   "id": "ae97b6f3-6ffd-45f3-8bcf-d887b66b2e60",
   "metadata": {},
   "outputs": [],
   "source": []
  }
 ],
 "metadata": {
  "kernelspec": {
   "display_name": "Python 3 (ipykernel)",
   "language": "python",
   "name": "python3"
  },
  "language_info": {
   "codemirror_mode": {
    "name": "ipython",
    "version": 3
   },
   "file_extension": ".py",
   "mimetype": "text/x-python",
   "name": "python",
   "nbconvert_exporter": "python",
   "pygments_lexer": "ipython3",
   "version": "3.9.13"
  }
 },
 "nbformat": 4,
 "nbformat_minor": 5
}
